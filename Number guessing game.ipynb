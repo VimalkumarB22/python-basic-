{
 "cells": [
  {
   "cell_type": "code",
   "execution_count": 1,
   "id": "ff5907d8",
   "metadata": {},
   "outputs": [
    {
     "name": "stdout",
     "output_type": "stream",
     "text": [
      "Welcome to number guessing game!!!.You have 7 chances to guess the number...\n",
      "Enter the lower bound : 1\n",
      "Enter the upper bound : 100\n",
      "The number to be guessed is between 1 and 100.Let's start\n",
      "Enter the guessing number50\n",
      "Too high,try lower number\n",
      "Enter the guessing number25\n",
      "Too low,try higher number\n",
      "Enter the guessing number37\n",
      "Too high,try lower number\n",
      "Enter the guessing number30\n",
      "Too low,try higher number\n",
      "Enter the guessing number34\n",
      "Too low,try higher number\n",
      "Enter the guessing number36\n",
      "Too high,try lower number\n",
      "Enter the guessing number35\n",
      "hurray!!,you have guessed the 35 in 7 attempts\n"
     ]
    }
   ],
   "source": [
    "import random\n",
    "print(\"Welcome to number guessing game!!!.You have 7 chances to guess the number...\")\n",
    "low=int(input(\"Enter the lower bound : \"))\n",
    "high=int(input(\"Enter the upper bound : \"))\n",
    "print(f\"The number to be guessed is between {low} and {high}.Let's start\")\n",
    "num=random.randint(low,high)\n",
    "ch=7 # no of chances to guess a number\n",
    "gc=0 # guess counter\n",
    "while gc < ch :\n",
    "  gc+=1\n",
    "  guess=int(input(\"Enter the guessing number\"))\n",
    "  if guess == num:\n",
    "    print(f\"hurray!!,you have guessed the {num} in {gc} attempts\")\n",
    "    break\n",
    "  elif gc >=ch and guess!=num:\n",
    "    print(f\"Sorry!.. the correct number is {num}\")\n",
    "  elif guess > num :\n",
    "    print(\"Too high,try lower number\")\n",
    "  elif guess <  num :\n",
    "    print(\"Too low,try higher number\")"
   ]
  },
  {
   "cell_type": "code",
   "execution_count": null,
   "id": "2a23d2ca",
   "metadata": {},
   "outputs": [],
   "source": []
  }
 ],
 "metadata": {
  "kernelspec": {
   "display_name": "Python 3 (ipykernel)",
   "language": "python",
   "name": "python3"
  },
  "language_info": {
   "codemirror_mode": {
    "name": "ipython",
    "version": 3
   },
   "file_extension": ".py",
   "mimetype": "text/x-python",
   "name": "python",
   "nbconvert_exporter": "python",
   "pygments_lexer": "ipython3",
   "version": "3.11.5"
  }
 },
 "nbformat": 4,
 "nbformat_minor": 5
}

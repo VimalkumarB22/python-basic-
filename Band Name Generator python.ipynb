{
 "cells": [
  {
   "cell_type": "code",
   "execution_count": 3,
   "id": "5857654e",
   "metadata": {},
   "outputs": [
    {
     "name": "stdout",
     "output_type": "stream",
     "text": [
      "Welcome to the Band Name Generator!\n",
      "Which city did you grow up?\n",
      "dolakpur\n",
      "what is your pet name?\n",
      "bheem\n",
      "your band name could be: dolakpur bheem\n"
     ]
    }
   ],
   "source": [
    "print(\"Welcome to the Band Name Generator!\")\n",
    "city = input(\"Which city did you grow up?\\n\")\n",
    "pet = input(\"what is your pet name?\\n\")\n",
    "print(\"your band name could be: \"+city+\" \"+pet)"
   ]
  },
  {
   "cell_type": "code",
   "execution_count": null,
   "id": "89c1d274",
   "metadata": {},
   "outputs": [],
   "source": []
  }
 ],
 "metadata": {
  "kernelspec": {
   "display_name": "Python 3 (ipykernel)",
   "language": "python",
   "name": "python3"
  },
  "language_info": {
   "codemirror_mode": {
    "name": "ipython",
    "version": 3
   },
   "file_extension": ".py",
   "mimetype": "text/x-python",
   "name": "python",
   "nbconvert_exporter": "python",
   "pygments_lexer": "ipython3",
   "version": "3.11.5"
  }
 },
 "nbformat": 4,
 "nbformat_minor": 5
}
